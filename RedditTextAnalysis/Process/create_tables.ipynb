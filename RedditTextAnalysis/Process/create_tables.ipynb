{
 "cells": [
  {
   "cell_type": "code",
   "execution_count": 1,
   "metadata": {},
   "outputs": [
    {
     "name": "stdout",
     "output_type": "stream",
     "text": [
      "/Users/prcork/MiscDataProjects/collaboration/RedditTextAnalysis\n"
     ]
    }
   ],
   "source": [
    "import pandas as pd\n",
    "import sqlite3\n",
    "\n",
    "# Path hack\n",
    "import os\n",
    "# change directory from the current Analysis folder to the top level folder for easier navigation\n",
    "os.chdir('../')\n",
    "# confirm we're at /RedditTextAnalysis\n",
    "print(os.getcwd())"
   ]
  },
  {
   "cell_type": "markdown",
   "metadata": {},
   "source": [
    "## Create Tables"
   ]
  },
  {
   "cell_type": "code",
   "execution_count": 3,
   "metadata": {},
   "outputs": [
    {
     "name": "stdout",
     "output_type": "stream",
     "text": [
      "0\n"
     ]
    }
   ],
   "source": [
    "with sqlite3.connect(\"nfl_gamethreads.db\") as conn:\n",
    "    print(conn.total_changes)\n",
    "    c = conn.cursor()\n",
    "\n",
    "    gamethreads = \"\"\" CREATE TABLE IF NOT EXISTS gamethreads (\n",
    "                                        submission_id string PRIMARY KEY,\n",
    "                                        title text NOT NULL,\n",
    "                                        date text,\n",
    "                                        week integer,\n",
    "                                        season integer,\n",
    "                                        home_team text NOT NULL,\n",
    "                                        home_team_wins integer NOT NULL,\n",
    "                                        home_team_losses integer NOT NULL,\n",
    "                                        home_team_ties integer,\n",
    "                                        away_team text NOT NULL,\n",
    "                                        away_team_wins integer NOT NULL,\n",
    "                                        away_team_losses integer NOT NULL,\n",
    "                                        away_team_ties integer,\n",
    "                                        home_score integer NOT NULL,\n",
    "                                        away_score integer NOT NULL,\n",
    "                                        combined_score integer NOT NULL,\n",
    "                                        winner text,\n",
    "                                        score_difference integer NOT NULL,\n",
    "                                        predicted_winner text NOT NULL,\n",
    "                                        predicted_difference integer NOT NULL,\n",
    "                                        predicted_over_under integer NOT NULL\n",
    "                                    ); \"\"\"\n",
    "\n",
    "    comments = \"\"\" CREATE TABLE IF NOT EXISTS comments (\n",
    "                                        comment_id string PRIMARY KEY,\n",
    "                                        submission_id string NOT NULL,\n",
    "                                        author text,\n",
    "                                        body text NOT NULL,\n",
    "                                        upvotes integer,\n",
    "                                        utc_time float,\n",
    "                                        author_flair text,\n",
    "                                        FOREIGN KEY(submission_id) REFERENCES gamethreads(submission_id)\n",
    "                                    );\"\"\"\n",
    "\n",
    "    #c.execute(gamethreads)\n",
    "    #c.execute(comments)"
   ]
  }
 ],
 "metadata": {
  "kernelspec": {
   "display_name": "Python 3.8.8 ('base')",
   "language": "python",
   "name": "python3"
  },
  "language_info": {
   "codemirror_mode": {
    "name": "ipython",
    "version": 3
   },
   "file_extension": ".py",
   "mimetype": "text/x-python",
   "name": "python",
   "nbconvert_exporter": "python",
   "pygments_lexer": "ipython3",
   "version": "3.8.8"
  },
  "orig_nbformat": 4,
  "vscode": {
   "interpreter": {
    "hash": "40d3a090f54c6569ab1632332b64b2c03c39dcf918b08424e98f38b5ae0af88f"
   }
  }
 },
 "nbformat": 4,
 "nbformat_minor": 2
}
