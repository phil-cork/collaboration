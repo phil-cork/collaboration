{
 "cells": [
  {
   "cell_type": "markdown",
   "metadata": {},
   "source": [
    "## Imports"
   ]
  },
  {
   "cell_type": "code",
   "execution_count": 1,
   "metadata": {},
   "outputs": [
    {
     "name": "stdout",
     "output_type": "stream",
     "text": [
      "/Users/prcork/MiscDataProjects/collaboration/RedditTextAnalysis\n"
     ]
    }
   ],
   "source": [
    "# Path hack\n",
    "import os\n",
    "# change directory from the current Analysis folder to the top level folder for easier navigation\n",
    "os.chdir('../')\n",
    "# confirm we're at /RedditTextAnalysis\n",
    "print(os.getcwd())"
   ]
  },
  {
   "cell_type": "code",
   "execution_count": 2,
   "metadata": {},
   "outputs": [],
   "source": [
    "# note that the %load_ext autoreload line only needs to be be run once\n",
    "%load_ext autoreload"
   ]
  },
  {
   "cell_type": "code",
   "execution_count": 3,
   "metadata": {},
   "outputs": [],
   "source": [
    "# by including this autoreload command, we only need to re-import Spatial_Joins if we make/save changes to the original py file\n",
    "%autoreload\n",
    "from Functions.nfl_gamethreads import nfl_gamethreads"
   ]
  },
  {
   "cell_type": "code",
   "execution_count": 4,
   "metadata": {},
   "outputs": [],
   "source": [
    "import pandas as pd\n",
    "import sqlite3\n",
    "import re"
   ]
  },
  {
   "cell_type": "markdown",
   "metadata": {},
   "source": [
    "## Query Comments"
   ]
  },
  {
   "cell_type": "code",
   "execution_count": 5,
   "metadata": {},
   "outputs": [],
   "source": [
    "with sqlite3.connect(\"nfl_gamethreads.db\") as conn:\n",
    "\n",
    "    # pull in all submission ids that have previously been crawled\n",
    "    comments_df = pd.read_sql_query(\"SELECT * FROM comments\", conn)"
   ]
  },
  {
   "cell_type": "code",
   "execution_count": 6,
   "metadata": {},
   "outputs": [
    {
     "data": {
      "text/html": [
       "<div>\n",
       "<style scoped>\n",
       "    .dataframe tbody tr th:only-of-type {\n",
       "        vertical-align: middle;\n",
       "    }\n",
       "\n",
       "    .dataframe tbody tr th {\n",
       "        vertical-align: top;\n",
       "    }\n",
       "\n",
       "    .dataframe thead th {\n",
       "        text-align: right;\n",
       "    }\n",
       "</style>\n",
       "<table border=\"1\" class=\"dataframe\">\n",
       "  <thead>\n",
       "    <tr style=\"text-align: right;\">\n",
       "      <th></th>\n",
       "      <th>comment_id</th>\n",
       "      <th>submission_id</th>\n",
       "      <th>author</th>\n",
       "      <th>body</th>\n",
       "      <th>upvotes</th>\n",
       "      <th>utc_time</th>\n",
       "      <th>author_flair</th>\n",
       "    </tr>\n",
       "  </thead>\n",
       "  <tbody>\n",
       "    <tr>\n",
       "      <th>0</th>\n",
       "      <td>hejgunm</td>\n",
       "      <td>pwto53</td>\n",
       "      <td>drumline17</td>\n",
       "      <td>Lebron's high school QB has probably been tell...</td>\n",
       "      <td>169</td>\n",
       "      <td>1.632792e+09</td>\n",
       "      <td>:Broncos: Broncos</td>\n",
       "    </tr>\n",
       "    <tr>\n",
       "      <th>1</th>\n",
       "      <td>hej6lhu</td>\n",
       "      <td>pwto53</td>\n",
       "      <td>Mr_Alex19</td>\n",
       "      <td>Friday Night Lights vs It's Always Sunny in Ph...</td>\n",
       "      <td>163</td>\n",
       "      <td>1.632787e+09</td>\n",
       "      <td>:Rams: Rams</td>\n",
       "    </tr>\n",
       "    <tr>\n",
       "      <th>2</th>\n",
       "      <td>hejhqt0</td>\n",
       "      <td>pwto53</td>\n",
       "      <td>flagg-deschain</td>\n",
       "      <td>I didn’t think anything could be worse than ge...</td>\n",
       "      <td>160</td>\n",
       "      <td>1.632792e+09</td>\n",
       "      <td>:Eagles: Eagles</td>\n",
       "    </tr>\n",
       "    <tr>\n",
       "      <th>3</th>\n",
       "      <td>hejbb99</td>\n",
       "      <td>pwto53</td>\n",
       "      <td>None</td>\n",
       "      <td>[deleted]</td>\n",
       "      <td>298</td>\n",
       "      <td>1.632789e+09</td>\n",
       "      <td>None</td>\n",
       "    </tr>\n",
       "    <tr>\n",
       "      <th>4</th>\n",
       "      <td>heja73s</td>\n",
       "      <td>pwto53</td>\n",
       "      <td>usersince2012</td>\n",
       "      <td>\"If you're gonna get a personal foul, get it o...</td>\n",
       "      <td>415</td>\n",
       "      <td>1.632789e+09</td>\n",
       "      <td>:49ers: 49ers</td>\n",
       "    </tr>\n",
       "    <tr>\n",
       "      <th>...</th>\n",
       "      <td>...</td>\n",
       "      <td>...</td>\n",
       "      <td>...</td>\n",
       "      <td>...</td>\n",
       "      <td>...</td>\n",
       "      <td>...</td>\n",
       "      <td>...</td>\n",
       "    </tr>\n",
       "    <tr>\n",
       "      <th>772575</th>\n",
       "      <td>hlkus6s</td>\n",
       "      <td>qz47b2</td>\n",
       "      <td>bigDean636</td>\n",
       "      <td>It's almost unwatchable except the tv ratings ...</td>\n",
       "      <td>1</td>\n",
       "      <td>1.637541e+09</td>\n",
       "      <td>:Chiefs: Chiefs</td>\n",
       "    </tr>\n",
       "    <tr>\n",
       "      <th>772576</th>\n",
       "      <td>hlkvmqy</td>\n",
       "      <td>qz47b2</td>\n",
       "      <td>None</td>\n",
       "      <td>[removed]</td>\n",
       "      <td>-1</td>\n",
       "      <td>1.637542e+09</td>\n",
       "      <td>None</td>\n",
       "    </tr>\n",
       "    <tr>\n",
       "      <th>772577</th>\n",
       "      <td>hlllv1i</td>\n",
       "      <td>qz47b2</td>\n",
       "      <td>Commercial-Yak-8450</td>\n",
       "      <td>Ok my fault we were missing the number 2 ranke...</td>\n",
       "      <td>1</td>\n",
       "      <td>1.637554e+09</td>\n",
       "      <td>None</td>\n",
       "    </tr>\n",
       "    <tr>\n",
       "      <th>772578</th>\n",
       "      <td>hlm6a8i</td>\n",
       "      <td>qz47b2</td>\n",
       "      <td>None</td>\n",
       "      <td>[deleted]</td>\n",
       "      <td>1</td>\n",
       "      <td>1.637567e+09</td>\n",
       "      <td>None</td>\n",
       "    </tr>\n",
       "    <tr>\n",
       "      <th>772579</th>\n",
       "      <td>hlnazhv</td>\n",
       "      <td>qz47b2</td>\n",
       "      <td>Commercial-Yak-8450</td>\n",
       "      <td>Why would I cry?</td>\n",
       "      <td>1</td>\n",
       "      <td>1.637595e+09</td>\n",
       "      <td>None</td>\n",
       "    </tr>\n",
       "  </tbody>\n",
       "</table>\n",
       "<p>772580 rows × 7 columns</p>\n",
       "</div>"
      ],
      "text/plain": [
       "       comment_id submission_id               author  \\\n",
       "0         hejgunm        pwto53           drumline17   \n",
       "1         hej6lhu        pwto53            Mr_Alex19   \n",
       "2         hejhqt0        pwto53       flagg-deschain   \n",
       "3         hejbb99        pwto53                 None   \n",
       "4         heja73s        pwto53        usersince2012   \n",
       "...           ...           ...                  ...   \n",
       "772575    hlkus6s        qz47b2           bigDean636   \n",
       "772576    hlkvmqy        qz47b2                 None   \n",
       "772577    hlllv1i        qz47b2  Commercial-Yak-8450   \n",
       "772578    hlm6a8i        qz47b2                 None   \n",
       "772579    hlnazhv        qz47b2  Commercial-Yak-8450   \n",
       "\n",
       "                                                     body  upvotes  \\\n",
       "0       Lebron's high school QB has probably been tell...      169   \n",
       "1       Friday Night Lights vs It's Always Sunny in Ph...      163   \n",
       "2       I didn’t think anything could be worse than ge...      160   \n",
       "3                                               [deleted]      298   \n",
       "4       \"If you're gonna get a personal foul, get it o...      415   \n",
       "...                                                   ...      ...   \n",
       "772575  It's almost unwatchable except the tv ratings ...        1   \n",
       "772576                                          [removed]       -1   \n",
       "772577  Ok my fault we were missing the number 2 ranke...        1   \n",
       "772578                                          [deleted]        1   \n",
       "772579                                   Why would I cry?        1   \n",
       "\n",
       "            utc_time       author_flair  \n",
       "0       1.632792e+09  :Broncos: Broncos  \n",
       "1       1.632787e+09        :Rams: Rams  \n",
       "2       1.632792e+09    :Eagles: Eagles  \n",
       "3       1.632789e+09               None  \n",
       "4       1.632789e+09      :49ers: 49ers  \n",
       "...              ...                ...  \n",
       "772575  1.637541e+09    :Chiefs: Chiefs  \n",
       "772576  1.637542e+09               None  \n",
       "772577  1.637554e+09               None  \n",
       "772578  1.637567e+09               None  \n",
       "772579  1.637595e+09               None  \n",
       "\n",
       "[772580 rows x 7 columns]"
      ]
     },
     "execution_count": 6,
     "metadata": {},
     "output_type": "execute_result"
    }
   ],
   "source": [
    "comments_df"
   ]
  },
  {
   "cell_type": "markdown",
   "metadata": {},
   "source": [
    "### Test Process Flair Function for Replacement"
   ]
  },
  {
   "cell_type": "code",
   "execution_count": 7,
   "metadata": {},
   "outputs": [],
   "source": [
    "comments_df['author_flair'] = comments_df['author_flair'].apply(lambda flair: nfl_gamethreads.process_flair(flair))"
   ]
  },
  {
   "cell_type": "code",
   "execution_count": 11,
   "metadata": {},
   "outputs": [
    {
     "data": {
      "text/plain": [
       "34"
      ]
     },
     "execution_count": 11,
     "metadata": {},
     "output_type": "execute_result"
    }
   ],
   "source": [
    "len(comments_df['author_flair'].unique().tolist())"
   ]
  },
  {
   "cell_type": "code",
   "execution_count": 12,
   "metadata": {},
   "outputs": [
    {
     "data": {
      "text/plain": [
       "772580"
      ]
     },
     "execution_count": 12,
     "metadata": {},
     "output_type": "execute_result"
    }
   ],
   "source": [
    "comments_df.to_sql(name='comments', con=conn, if_exists='replace', index=False)"
   ]
  }
 ],
 "metadata": {
  "kernelspec": {
   "display_name": "Python 3.8.8 ('base')",
   "language": "python",
   "name": "python3"
  },
  "language_info": {
   "codemirror_mode": {
    "name": "ipython",
    "version": 3
   },
   "file_extension": ".py",
   "mimetype": "text/x-python",
   "name": "python",
   "nbconvert_exporter": "python",
   "pygments_lexer": "ipython3",
   "version": "3.8.8"
  },
  "orig_nbformat": 4,
  "vscode": {
   "interpreter": {
    "hash": "40d3a090f54c6569ab1632332b64b2c03c39dcf918b08424e98f38b5ae0af88f"
   }
  }
 },
 "nbformat": 4,
 "nbformat_minor": 2
}
