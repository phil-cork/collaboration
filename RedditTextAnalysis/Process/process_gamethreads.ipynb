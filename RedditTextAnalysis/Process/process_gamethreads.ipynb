{
 "cells": [
  {
   "cell_type": "markdown",
   "metadata": {},
   "source": [
    "### Imports"
   ]
  },
  {
   "cell_type": "code",
   "execution_count": 1,
   "metadata": {},
   "outputs": [
    {
     "name": "stdout",
     "output_type": "stream",
     "text": [
      "/Users/prcork/MiscDataProjects/collaboration/RedditTextAnalysis\n"
     ]
    }
   ],
   "source": [
    "# import reddit api wrapper\n",
    "import praw\n",
    "import pandas as pd\n",
    "import datetime\n",
    "import sqlite3\n",
    "\n",
    "from textblob import TextBlob\n",
    "import altair as alt\n",
    "\n",
    "# Path hack\n",
    "import os\n",
    "# change directory from the current Analysis folder to the top level folder for easier navigation\n",
    "os.chdir('../')\n",
    "# confirm we're at /RedditTextAnalysis\n",
    "print(os.getcwd())\n",
    "\n",
    "# note that the %load_ext autoreload line only needs to be be run once\n",
    "%load_ext autoreload"
   ]
  },
  {
   "cell_type": "code",
   "execution_count": 2,
   "metadata": {},
   "outputs": [],
   "source": [
    "# by including this autoreload command, we only need to re-import Spatial_Joins if we make/save changes to the original py file\n",
    "%autoreload\n",
    "from Functions.nfl_gamethreads import nfl_gamethreads"
   ]
  },
  {
   "cell_type": "markdown",
   "metadata": {},
   "source": [
    "### Set Up Reddit Instance"
   ]
  },
  {
   "cell_type": "code",
   "execution_count": 3,
   "metadata": {},
   "outputs": [],
   "source": [
    "# access password and client secret id via local files\n",
    "with open('pw.txt', 'r') as file1:\n",
    "    pw = file1.read()\n",
    "\n",
    "with open('client_secret.txt', 'r') as file2:\n",
    "    cs = file2.read()\n",
    "\n",
    "# create a praw Reddit instance with app credentials and secret info passed through\n",
    "reddit = praw.Reddit(\n",
    "    client_id=\"XbesrQBvKymjgLdgg_D6lA\",\n",
    "    client_secret=cs,\n",
    "    user_agent=\"NFLTextAnalysis/0.0.1\",\n",
    "    username=\"ta_api\",\n",
    "    password=pw\n",
    ")\n",
    "\n",
    "# store an instance of the Redditor object for the gamethread account\n",
    "nfl_bot = reddit.redditor(\"nfl_gamethread\")"
   ]
  },
  {
   "cell_type": "markdown",
   "metadata": {},
   "source": [
    "### Get Raw Data"
   ]
  },
  {
   "cell_type": "code",
   "execution_count": 4,
   "metadata": {},
   "outputs": [],
   "source": [
    "gamethread_list = nfl_gamethreads.get_submissions(nfl_bot, 1000)"
   ]
  },
  {
   "cell_type": "markdown",
   "metadata": {},
   "source": [
    "### Transform in Gamethread DataFrame"
   ]
  },
  {
   "cell_type": "code",
   "execution_count": 20,
   "metadata": {},
   "outputs": [],
   "source": [
    "gamethread_df = nfl_gamethreads.build_gamethread_df(reddit, gamethread_list, season=2021)"
   ]
  },
  {
   "cell_type": "markdown",
   "metadata": {},
   "source": [
    "### Store Data in CSV & SQL"
   ]
  },
  {
   "cell_type": "code",
   "execution_count": 27,
   "metadata": {},
   "outputs": [],
   "source": [
    "gamethread_df.rename(inplace=True, columns={'predicted_diff':'predicted_difference'})"
   ]
  },
  {
   "cell_type": "code",
   "execution_count": null,
   "metadata": {},
   "outputs": [],
   "source": [
    "gamethread_df.to_csv(\"gamethreads_2021.csv\", index=False)"
   ]
  },
  {
   "cell_type": "code",
   "execution_count": 28,
   "metadata": {},
   "outputs": [],
   "source": [
    "with sqlite3.connect(\"nfl_gamethreads.db\") as conn:\n",
    "    gamethread_df.to_sql(name='gamethreads', con=conn, if_exists='append', index=False)"
   ]
  },
  {
   "cell_type": "markdown",
   "metadata": {},
   "source": [
    "## Get Comments"
   ]
  },
  {
   "cell_type": "code",
   "execution_count": null,
   "metadata": {},
   "outputs": [],
   "source": [
    "week_4_comments = nfl_gamethreads.build_weekly_comments_df(gamethread_df=gamethread_df, week=4, reddit=reddit)"
   ]
  },
  {
   "cell_type": "code",
   "execution_count": null,
   "metadata": {},
   "outputs": [],
   "source": [
    "sub = gamethread_df[gamethread_df['week']==3]['id'][0]"
   ]
  },
  {
   "cell_type": "code",
   "execution_count": null,
   "metadata": {},
   "outputs": [],
   "source": [
    "week_3_comments = nfl_gamethreads.get_comments(reddit, submission_id=sub, comments_only=False)"
   ]
  }
 ],
 "metadata": {
  "kernelspec": {
   "display_name": "Python 3.8.8 ('base')",
   "language": "python",
   "name": "python3"
  },
  "language_info": {
   "codemirror_mode": {
    "name": "ipython",
    "version": 3
   },
   "file_extension": ".py",
   "mimetype": "text/x-python",
   "name": "python",
   "nbconvert_exporter": "python",
   "pygments_lexer": "ipython3",
   "version": "3.8.8"
  },
  "orig_nbformat": 4,
  "vscode": {
   "interpreter": {
    "hash": "40d3a090f54c6569ab1632332b64b2c03c39dcf918b08424e98f38b5ae0af88f"
   }
  }
 },
 "nbformat": 4,
 "nbformat_minor": 2
}
