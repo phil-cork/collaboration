{
 "cells": [
  {
   "cell_type": "code",
   "execution_count": 49,
   "metadata": {},
   "outputs": [],
   "source": [
    "# import reddit api wrapper\n",
    "import praw\n",
    "import pandas as pd"
   ]
  },
  {
   "cell_type": "code",
   "execution_count": 39,
   "metadata": {},
   "outputs": [],
   "source": [
    "# access password and client secret id via local files\n",
    "with open('pw.txt', 'r') as file1:\n",
    "    pw = file1.read()\n",
    "\n",
    "with open('client_secret.txt', 'r') as file2:\n",
    "    cs = file2.read()"
   ]
  },
  {
   "cell_type": "code",
   "execution_count": 40,
   "metadata": {},
   "outputs": [],
   "source": [
    "# create a praw Reddit instance with app credentials and secret info passed through\n",
    "reddit = praw.Reddit(\n",
    "    client_id=\"XbesrQBvKymjgLdgg_D6lA\",\n",
    "    client_secret=cs,\n",
    "    user_agent=\"NFLTextAnalysis/0.0.1\",\n",
    "    username=\"ta_api\",\n",
    "    password=pw\n",
    ")"
   ]
  },
  {
   "cell_type": "code",
   "execution_count": 43,
   "metadata": {},
   "outputs": [],
   "source": [
    "# create a praw Submission instance for the NO-TN game thread and confirm the correct thread via title\n",
    "submission = reddit.submission(\"qtuqqs\")\n",
    "submission.title"
   ]
  },
  {
   "cell_type": "code",
   "execution_count": 61,
   "metadata": {},
   "outputs": [],
   "source": [
    "# create a new list for appending comments\n",
    "comments_list = []\n",
    "\n",
    "# ignore all of the \"Load More Comment\" prompts to return entire comment tree\n",
    "submission.comments.replace_more(limit=None)\n",
    "# for each comment and subsequent sub-comments nested throughout\n",
    "for comment in submission.comments.list():\n",
    "    # append a tupple of the variables of interest to list\n",
    "    comments_list.append((comment.author, comment.body, comment.ups, comment.downs, comment.created_utc, comment.author_flair_text))\n",
    "    \n",
    "# transform list to dataframe\n",
    "comments_df = pd.DataFrame(comments_list, columns=['author', 'body','ups','downs', 'time', 'flair_text',])"
   ]
  },
  {
   "cell_type": "code",
   "execution_count": 60,
   "metadata": {},
   "outputs": [
    {
     "data": {
      "text/html": [
       "<div>\n",
       "<style scoped>\n",
       "    .dataframe tbody tr th:only-of-type {\n",
       "        vertical-align: middle;\n",
       "    }\n",
       "\n",
       "    .dataframe tbody tr th {\n",
       "        vertical-align: top;\n",
       "    }\n",
       "\n",
       "    .dataframe thead th {\n",
       "        text-align: right;\n",
       "    }\n",
       "</style>\n",
       "<table border=\"1\" class=\"dataframe\">\n",
       "  <thead>\n",
       "    <tr style=\"text-align: right;\">\n",
       "      <th></th>\n",
       "      <th>author</th>\n",
       "      <th>body</th>\n",
       "      <th>ups</th>\n",
       "      <th>downs</th>\n",
       "      <th>time</th>\n",
       "      <th>flair_text</th>\n",
       "    </tr>\n",
       "  </thead>\n",
       "  <tbody>\n",
       "    <tr>\n",
       "      <th>0</th>\n",
       "      <td>KentuckyBourbon94</td>\n",
       "      <td>An underrated factor of playing against the Sa...</td>\n",
       "      <td>63</td>\n",
       "      <td>0</td>\n",
       "      <td>1.636917e+09</td>\n",
       "      <td>:Titans: Titans</td>\n",
       "    </tr>\n",
       "    <tr>\n",
       "      <th>1</th>\n",
       "      <td>PuddingJello</td>\n",
       "      <td>Next year RTP calls will be reviewable but ref...</td>\n",
       "      <td>39</td>\n",
       "      <td>0</td>\n",
       "      <td>1.636917e+09</td>\n",
       "      <td>:Saints: Saints</td>\n",
       "    </tr>\n",
       "    <tr>\n",
       "      <th>2</th>\n",
       "      <td>Theinsulated</td>\n",
       "      <td>I wish I could fuck up every aspect of my job ...</td>\n",
       "      <td>40</td>\n",
       "      <td>0</td>\n",
       "      <td>1.636917e+09</td>\n",
       "      <td>:Saints: Saints</td>\n",
       "    </tr>\n",
       "    <tr>\n",
       "      <th>3</th>\n",
       "      <td>Successful-Client215</td>\n",
       "      <td>I'm a Titans fan and these QB roughing calls a...</td>\n",
       "      <td>27</td>\n",
       "      <td>0</td>\n",
       "      <td>1.636917e+09</td>\n",
       "      <td>:Titans: Titans</td>\n",
       "    </tr>\n",
       "    <tr>\n",
       "      <th>4</th>\n",
       "      <td>TotesMcGotes13</td>\n",
       "      <td>Sorry Saints bros. That RTP was bullshit.</td>\n",
       "      <td>28</td>\n",
       "      <td>0</td>\n",
       "      <td>1.636918e+09</td>\n",
       "      <td>:Titans: Titans</td>\n",
       "    </tr>\n",
       "  </tbody>\n",
       "</table>\n",
       "</div>"
      ],
      "text/plain": [
       "                 author                                               body  \\\n",
       "0     KentuckyBourbon94  An underrated factor of playing against the Sa...   \n",
       "1          PuddingJello  Next year RTP calls will be reviewable but ref...   \n",
       "2          Theinsulated  I wish I could fuck up every aspect of my job ...   \n",
       "3  Successful-Client215  I'm a Titans fan and these QB roughing calls a...   \n",
       "4        TotesMcGotes13          Sorry Saints bros. That RTP was bullshit.   \n",
       "\n",
       "   ups  downs          time       flair_text  \n",
       "0   63      0  1.636917e+09  :Titans: Titans  \n",
       "1   39      0  1.636917e+09  :Saints: Saints  \n",
       "2   40      0  1.636917e+09  :Saints: Saints  \n",
       "3   27      0  1.636917e+09  :Titans: Titans  \n",
       "4   28      0  1.636918e+09  :Titans: Titans  "
      ]
     },
     "execution_count": 60,
     "metadata": {},
     "output_type": "execute_result"
    }
   ],
   "source": [
    "# preview dataframe\n",
    "comments_df.head()"
   ]
  },
  {
   "cell_type": "code",
   "execution_count": null,
   "metadata": {},
   "outputs": [],
   "source": []
  }
 ],
 "metadata": {
  "kernelspec": {
   "display_name": "Python 3.8.8 ('base')",
   "language": "python",
   "name": "python3"
  },
  "language_info": {
   "codemirror_mode": {
    "name": "ipython",
    "version": 3
   },
   "file_extension": ".py",
   "mimetype": "text/x-python",
   "name": "python",
   "nbconvert_exporter": "python",
   "pygments_lexer": "ipython3",
   "version": "3.8.8"
  },
  "orig_nbformat": 4,
  "vscode": {
   "interpreter": {
    "hash": "40d3a090f54c6569ab1632332b64b2c03c39dcf918b08424e98f38b5ae0af88f"
   }
  }
 },
 "nbformat": 4,
 "nbformat_minor": 2
}
