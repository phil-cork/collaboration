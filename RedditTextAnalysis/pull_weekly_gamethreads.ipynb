{
 "cells": [
  {
   "cell_type": "code",
   "execution_count": 1,
   "metadata": {},
   "outputs": [],
   "source": [
    "# import reddit api wrapper\n",
    "import praw\n",
    "import pandas as pd\n",
    "from datetime import datetime\n",
    "\n",
    "from textblob import TextBlob\n",
    "import altair as alt"
   ]
  },
  {
   "cell_type": "code",
   "execution_count": 3,
   "metadata": {},
   "outputs": [],
   "source": [
    "# access password and client secret id via local files\n",
    "with open('pw.txt', 'r') as file1:\n",
    "    pw = file1.read()\n",
    "\n",
    "with open('client_secret.txt', 'r') as file2:\n",
    "    cs = file2.read()\n",
    "\n",
    "# create a praw Reddit instance with app credentials and secret info passed through\n",
    "reddit = praw.Reddit(\n",
    "    client_id=\"XbesrQBvKymjgLdgg_D6lA\",\n",
    "    client_secret=cs,\n",
    "    user_agent=\"NFLTextAnalysis/0.0.1\",\n",
    "    username=\"ta_api\",\n",
    "    password=pw\n",
    ")\n",
    "\n",
    "# store an instance of the Redditor object for the gamethread account\n",
    "nfl_bot = reddit.redditor(\"nfl_gamethread\")"
   ]
  },
  {
   "cell_type": "code",
   "execution_count": 4,
   "metadata": {},
   "outputs": [],
   "source": [
    "# initialize a new list for storing gamethread data\n",
    "gamethread_list = []\n",
    "\n",
    "# for each gamethread, store the id, name, and date\n",
    "for submission in nfl_bot.submissions.new(limit=20):\n",
    "    gamethread_list.append((str(submission.id), str(submission.title), submission.created_utc))\n",
    "\n",
    "gamethread_df = pd.DataFrame(gamethread_list, columns=['id','title','date'])"
   ]
  },
  {
   "cell_type": "code",
   "execution_count": 5,
   "metadata": {},
   "outputs": [],
   "source": [
    "# transform the date column from UTC timestamp to only the date\n",
    "gamethread_df['date'] = gamethread_df['date'].apply(lambda utc_entry: datetime.utcfromtimestamp(utc_entry))\n",
    "gamethread_df['date'] = gamethread_df['date'].dt.date"
   ]
  },
  {
   "cell_type": "code",
   "execution_count": 6,
   "metadata": {},
   "outputs": [],
   "source": [
    "# remove pre and post game threads, the superbowl halftime discussion, and the pro bowl discussion\n",
    "gamethread_df = gamethread_df[gamethread_df[\"title\"].str.contains(\"Pre|Post|Halftime|Pro Bowl|Super Bowl\")==False].copy()"
   ]
  },
  {
   "cell_type": "code",
   "execution_count": null,
   "metadata": {},
   "outputs": [],
   "source": [
    "# columns to add\n",
    "\n",
    "#was it an upset?\n",
    "\n",
    "#was it a blowout?\n",
    "\n",
    "#was it a close game?\n",
    "\n",
    "#was it a high/low scoring game?"
   ]
  },
  {
   "cell_type": "code",
   "execution_count": 13,
   "metadata": {},
   "outputs": [],
   "source": [
    "# Next Step: Get comment polarity/subjectivity\n",
    "# for each thread, get the comments\n",
    "# write a function that returns details about the comments - polarity, subjectivity, fanbase aggregate details, and merge onto the gamethread id?\n",
    "# turn other notebook into a function / py file that can be called on each game id"
   ]
  }
 ],
 "metadata": {
  "kernelspec": {
   "display_name": "Python 3.8.8 ('base')",
   "language": "python",
   "name": "python3"
  },
  "language_info": {
   "codemirror_mode": {
    "name": "ipython",
    "version": 3
   },
   "file_extension": ".py",
   "mimetype": "text/x-python",
   "name": "python",
   "nbconvert_exporter": "python",
   "pygments_lexer": "ipython3",
   "version": "3.8.8"
  },
  "orig_nbformat": 4,
  "vscode": {
   "interpreter": {
    "hash": "40d3a090f54c6569ab1632332b64b2c03c39dcf918b08424e98f38b5ae0af88f"
   }
  }
 },
 "nbformat": 4,
 "nbformat_minor": 2
}
